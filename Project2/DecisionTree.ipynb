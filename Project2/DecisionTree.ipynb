{
 "cells": [
  {
   "cell_type": "code",
   "execution_count": 1,
   "metadata": {
    "collapsed": true
   },
   "outputs": [],
   "source": [
    "import pandas as pd\n",
    "from sklearn import tree\n",
    "from sklearn import metrics\n",
    "import numpy as np\n",
    "import graphviz "
   ]
  },
  {
   "cell_type": "code",
   "execution_count": 25,
   "metadata": {
    "collapsed": true
   },
   "outputs": [],
   "source": [
    "df_match = pd.read_csv('../Project1/dataset.csv')\n",
    "after_match_attributes = ['home_team_goal', 'away_team_goal', 'possession_home', 'shoton_home', 'shoton_away', \n",
    "                      'shotoff_home', 'shotoff_away', 'corner_home', 'corner_away', 'cross_home', 'cross_away', \n",
    "                      'foulcommit_home', 'foulcommit_away', 'rcard_home', 'rcard_away', 'ycard_home', 'ycard_away', \n",
    "                      'throwin_home', 'throwin_away']\n",
    "training = df_match.sample(frac = 0.9)\n",
    "training_args = training.drop(after_match_attributes, axis=1)\n",
    "test = df_match[~df_match.isin(training)].dropna()\n",
    "test_args = test.drop(after_match_attributes, axis=1)\n",
    "home_win = training['home_team_goal'] > training['away_team_goal']"
   ]
  },
  {
   "cell_type": "code",
   "execution_count": 28,
   "metadata": {},
   "outputs": [
    {
     "name": "stdout",
     "output_type": "stream",
     "text": [
      "1 :\t 59.8326359833 % correct\n",
      "2 :\t 59.8326359833 % correct\n",
      "3 :\t 59.8326359833 % correct\n",
      "4 :\t 59.4142259414 % correct\n",
      "5 :\t 61.9246861925 % correct\n",
      "6 :\t 58.9958158996 % correct\n",
      "7 :\t 59.4142259414 % correct\n",
      "8 :\t 58.5774058577 % correct\n",
      "9 :\t 56.4853556485 % correct\n",
      "10 :\t 51.0460251046 % correct\n",
      "11 :\t 51.8828451883 % correct\n",
      "12 :\t 53.5564853556 % correct\n",
      "13 :\t 53.9748953975 % correct\n",
      "14 :\t 52.3012552301 % correct\n",
      "15 :\t 54.8117154812 % correct\n",
      "16 :\t 54.8117154812 % correct\n",
      "17 :\t 54.3933054393 % correct\n",
      "18 :\t 56.0669456067 % correct\n",
      "19 :\t 53.1380753138 % correct\n",
      "20 :\t 53.9748953975 % correct\n",
      "21 :\t 52.3012552301 % correct\n",
      "22 :\t 53.9748953975 % correct\n",
      "23 :\t 52.3012552301 % correct\n",
      "24 :\t 53.9748953975 % correct\n"
     ]
    }
   ],
   "source": [
    "for max_depth in range(1, 25):\n",
    "    clf = tree.DecisionTreeClassifier(max_depth = max_depth)\n",
    "    clf.fit(training_args, home_win)\n",
    "    predictions = clf.predict(test_args)\n",
    "    actual = test['home_team_goal'] > test['away_team_goal']\n",
    "    confusion = metrics.confusion_matrix(actual, predictions)\n",
    "    #print(confusion)\n",
    "    print (max_depth, ':\\t', (confusion[0, 0] + confusion[1, 1]) / np.sum(confusion) * 100, '% correct')"
   ]
  },
  {
   "cell_type": "code",
   "execution_count": 11,
   "metadata": {},
   "outputs": [
    {
     "data": {
      "text/plain": [
       "'home_win.pdf'"
      ]
     },
     "execution_count": 11,
     "metadata": {},
     "output_type": "execute_result"
    }
   ],
   "source": [
    "dot_data = tree.export_graphviz(clf, out_file=None, feature_names=training_args.columns)\n",
    "graph = graphviz.Source(dot_data)\n",
    "graph.render(\"home_win\")"
   ]
  },
  {
   "cell_type": "code",
   "execution_count": null,
   "metadata": {
    "collapsed": true
   },
   "outputs": [],
   "source": []
  }
 ],
 "metadata": {
  "kernelspec": {
   "display_name": "Python 3",
   "language": "python",
   "name": "python3"
  },
  "language_info": {
   "codemirror_mode": {
    "name": "ipython",
    "version": 3
   },
   "file_extension": ".py",
   "mimetype": "text/x-python",
   "name": "python",
   "nbconvert_exporter": "python",
   "pygments_lexer": "ipython3",
   "version": "3.6.2"
  }
 },
 "nbformat": 4,
 "nbformat_minor": 2
}
