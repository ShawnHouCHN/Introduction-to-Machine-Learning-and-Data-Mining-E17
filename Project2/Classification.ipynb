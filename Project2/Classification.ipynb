{
 "cells": [
  {
   "cell_type": "code",
   "execution_count": 1,
   "metadata": {
    "collapsed": true
   },
   "outputs": [],
   "source": [
    "import pandas as pd\n",
    "from sklearn import tree, neighbors, neural_network\n",
    "from sklearn import metrics\n",
    "import numpy as np\n",
    "import graphviz "
   ]
  },
  {
   "cell_type": "code",
   "execution_count": 2,
   "metadata": {},
   "outputs": [],
   "source": [
    "def split_sets(df, frac):\n",
    "    training = df.sample(frac = frac)\n",
    "    training_args = training.drop(after_match_attributes, axis=1)\n",
    "    test = df[~df.isin(training)].dropna()\n",
    "    test_args = test.drop(after_match_attributes, axis=1)\n",
    "    training_answers = training['home_team_goal'] > training['away_team_goal']\n",
    "    test_answers  = test['home_team_goal'] > test['away_team_goal']\n",
    "    return training, training_args, training_answers, test, test_args, test_answers\n",
    "\n",
    "df_match = pd.read_csv('../Project1/dataset.csv')\n",
    "after_match_attributes = ['home_team_goal', 'away_team_goal', 'possession_home', 'shoton_home', 'shoton_away', \n",
    "                      'shotoff_home', 'shotoff_away', 'corner_home', 'corner_away', 'cross_home', 'cross_away', \n",
    "                      'foulcommit_home', 'foulcommit_away', 'rcard_home', 'rcard_away', 'ycard_home', 'ycard_away', \n",
    "                      'throwin_home', 'throwin_away']\n",
    "outer_train, outer_train_args, outer_train_answers, outer_test, outer_test_args, outer_test_answers = split_sets(df_match, 0.9)\n",
    "inner_train, inner_train_args, inner_train_answers, inner_test, inner_test_args, inner_test_answers = split_sets(outer_train, 0.9)"
   ]
  },
  {
   "cell_type": "code",
   "execution_count": 3,
   "metadata": {
    "collapsed": true
   },
   "outputs": [],
   "source": [
    "def do_prediction(clf, train_args, train_answers, test_args, test_answers):\n",
    "    clf.fit(train_args, train_answers)\n",
    "    predictions = clf.predict(test_args)\n",
    "    confusion = metrics.confusion_matrix(test_answers, predictions)\n",
    "    return (confusion[0, 0] + confusion[1, 1]) / np.sum(confusion)"
   ]
  },
  {
   "cell_type": "code",
   "execution_count": 15,
   "metadata": {},
   "outputs": [
    {
     "name": "stdout",
     "output_type": "stream",
     "text": [
      "6 0.688372093023 0.627615062762\n"
     ]
    },
    {
     "data": {
      "text/plain": [
       "'tree.pdf'"
      ]
     },
     "execution_count": 15,
     "metadata": {},
     "output_type": "execute_result"
    }
   ],
   "source": [
    "# Decision tree\n",
    "correct_tree = np.zeros(25)\n",
    "for max_depth in range(1, len(correct_tree)):\n",
    "    correct_tree[max_depth] = do_prediction(tree.DecisionTreeClassifier(max_depth = max_depth), inner_train_args, inner_train_answers, inner_test_args, inner_test_answers)\n",
    "best_depth = np.argmax(correct_tree)\n",
    "clf_tree = tree.DecisionTreeClassifier(max_depth = best_depth)\n",
    "outer_correct = do_prediction(clf_tree, outer_train_args, outer_train_answers, outer_test_args, outer_test_answers)\n",
    "print (best_depth, correct_tree[best_depth], outer_correct)\n",
    "dot_data = tree.export_graphviz(clf_tree, out_file=None, feature_names=outer_train_args.columns)\n",
    "graph = graphviz.Source(dot_data)\n",
    "graph.render(\"tree\")"
   ]
  },
  {
   "cell_type": "code",
   "execution_count": 16,
   "metadata": {},
   "outputs": [
    {
     "name": "stdout",
     "output_type": "stream",
     "text": [
      "9 0.632558139535 0.598326359833\n"
     ]
    }
   ],
   "source": [
    "# KNN\n",
    "correct_knn = np.zeros(10)\n",
    "for k in range(1, len(correct_knn)):\n",
    "    correct_knn[k] = do_prediction(neighbors.KNeighborsClassifier(n_neighbors = k), inner_train_args, inner_train_answers, inner_test_args, inner_test_answers)\n",
    "best_k = np.argmax(correct_knn)\n",
    "clf_knn = neighbors.KNeighborsClassifier(n_neighbors = best_k)\n",
    "outer_correct = do_prediction(clf_knn, outer_train_args, outer_train_answers, outer_test_args, outer_test_answers)\n",
    "print (best_k, correct_knn[best_k], outer_correct)"
   ]
  },
  {
   "cell_type": "code",
   "execution_count": 17,
   "metadata": {},
   "outputs": [
    {
     "name": "stdout",
     "output_type": "stream",
     "text": [
      "1 0.682008368201 0.510460251046\n"
     ]
    }
   ],
   "source": [
    "# ANN\n",
    "correct_ann = np.zeros(10)\n",
    "n_units = 2 ** (np.arange(len(correct_ann)))\n",
    "for i in range(len(correct_ann)):\n",
    "    correct_ann[i] = do_prediction(neural_network.MLPClassifier(hidden_layer_sizes = n_units[i]), outer_train_args, outer_train_answers, outer_test_args, outer_test_answers)\n",
    "best_i = np.argmax(correct_ann)\n",
    "clf_ann = neural_network.MLPClassifier(hidden_layer_sizes = n_units[best_i])\n",
    "outer_correct = do_prediction(clf_ann, outer_train_args, outer_train_answers, outer_test_args, outer_test_answers)\n",
    "print (n_units[best_i], correct_ann[best_i], outer_correct)"
   ]
  },
  {
   "cell_type": "code",
   "execution_count": 18,
   "metadata": {},
   "outputs": [
    {
     "name": "stdout",
     "output_type": "stream",
     "text": [
      "[ 0.          0.6372093   0.6372093   0.61395349  0.6372093   0.66511628\n",
      "  0.68837209  0.66976744  0.6         0.65116279  0.61860465  0.60930233\n",
      "  0.60465116  0.59069767  0.6372093   0.61395349  0.57674419  0.59069767\n",
      "  0.60930233  0.6372093   0.59534884  0.59069767  0.61395349  0.59534884\n",
      "  0.55348837]\n",
      "[ 0.          0.50697674  0.59069767  0.57674419  0.61860465  0.5627907\n",
      "  0.6         0.60930233  0.61860465  0.63255814]\n",
      "[ 0.68200837  0.61924686  0.58577406  0.63598326  0.63598326  0.61506276\n",
      "  0.61506276  0.66108787  0.62343096  0.53138075]\n"
     ]
    }
   ],
   "source": [
    "print (correct_tree)\n",
    "print (correct_knn)\n",
    "print (correct_ann)"
   ]
  },
  {
   "cell_type": "code",
   "execution_count": null,
   "metadata": {
    "collapsed": true
   },
   "outputs": [],
   "source": []
  }
 ],
 "metadata": {
  "kernelspec": {
   "display_name": "Python 3",
   "language": "python",
   "name": "python3"
  },
  "language_info": {
   "codemirror_mode": {
    "name": "ipython",
    "version": 3
   },
   "file_extension": ".py",
   "mimetype": "text/x-python",
   "name": "python",
   "nbconvert_exporter": "python",
   "pygments_lexer": "ipython3",
   "version": "3.6.2"
  }
 },
 "nbformat": 4,
 "nbformat_minor": 2
}
