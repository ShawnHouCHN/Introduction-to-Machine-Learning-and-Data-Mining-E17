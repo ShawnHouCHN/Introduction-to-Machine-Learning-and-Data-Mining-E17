{
 "cells": [
  {
   "cell_type": "code",
   "execution_count": 3,
   "metadata": {
    "collapsed": true
   },
   "outputs": [],
   "source": [
    "import pandas as pd\n",
    "from sklearn import tree, neighbors, neural_network\n",
    "from sklearn import base, metrics\n",
    "import numpy as np\n",
    "import graphviz \n",
    "import matplotlib.pyplot as plt\n",
    "from scipy import stats"
   ]
  },
  {
   "cell_type": "code",
   "execution_count": 4,
   "metadata": {},
   "outputs": [
    {
     "name": "stdout",
     "output_type": "stream",
     "text": [
      "0.548117154812\n"
     ]
    }
   ],
   "source": [
    "after_match_attributes = ['home_team_goal', 'away_team_goal', 'possession_home', 'shoton_home', 'shoton_away', \n",
    "                      'shotoff_home', 'shotoff_away', 'corner_home', 'corner_away', 'cross_home', 'cross_away', \n",
    "                      'foulcommit_home', 'foulcommit_away', 'rcard_home', 'rcard_away', 'ycard_home', 'ycard_away', \n",
    "                      'throwin_home', 'throwin_away']\n",
    "team_attributes = ['buildUpPlaySpeed_home', 'buildUpPlayDribbling_home', 'buildUpPlayPassing_home',\n",
    "                      'buildUpPlayPositioningClass_home_isOrganised', 'chanceCreationPassing_home',\n",
    "                      'chanceCreationCrossing_home', 'chanceCreationShooting_home',\n",
    "                      'chanceCreationPositioningClass_home_isOrganised', 'defencePressure_home',\n",
    "                      'defenceAggression_home', 'defenceTeamWidth_home', 'buildUpPlaySpeed_away',\n",
    "                      'buildUpPlayDribbling_away', 'buildUpPlayPassing_away' ,\n",
    "                      'buildUpPlayPositioningClass_away_isOrganised', 'chanceCreationPassing_away',\n",
    "                      'chanceCreationCrossing_away', 'chanceCreationShooting_away',\n",
    "                      'chanceCreationPositioningClass_away_isOrganised', 'defencePressure_away' ,\n",
    "                      'defenceAggression_away', 'defenceTeamWidth_away']\n",
    "\n",
    "\n",
    "def split_sets_inner(df, test):\n",
    "    training = df[~df.isin(test)].dropna()\n",
    "    training_args = training.drop(after_match_attributes, axis=1)\n",
    "#    training_args = training.filter(team_attributes)\n",
    "    test_args = test.drop(after_match_attributes, axis=1)\n",
    "#    test_args = test.filter(team_attributes)\n",
    "    training_answers = training['home_team_goal'] > training['away_team_goal']\n",
    "    test_answers  = test['home_team_goal'] > test['away_team_goal']\n",
    "    return training, training_args, training_answers, test, test_args, test_answers\n",
    "\n",
    "def split_sets_holdout(df, frac):\n",
    "    test = df.sample(frac = 1 - frac)\n",
    "    return split_sets_inner(df, test)\n",
    "\n",
    "def split_sets_kfold(df, k, n): # 0 <= n < k\n",
    "    df.reindex()\n",
    "    rows = df.shape[0]\n",
    "    start = rows * n // k\n",
    "    end = rows * (n+1) // k - 1\n",
    "    test = df[start:end]\n",
    "    return split_sets_inner(df, test)\n",
    "\n",
    "df_match = pd.read_csv('../Project1/dataset.csv')\n",
    "outer_train, outer_train_args, outer_train_answers, outer_test, outer_test_args, outer_test_answers = split_sets_holdout(df_match, 0.9)\n",
    "print (outer_test_answers.value_counts()[0] / outer_test_answers.count())"
   ]
  },
  {
   "cell_type": "code",
   "execution_count": 5,
   "metadata": {
    "collapsed": true
   },
   "outputs": [],
   "source": [
    "def do_prediction(clf, train_args, train_answers, test_args, test_answers):\n",
    "    clf.fit(train_args, train_answers)\n",
    "    predictions = clf.predict(test_args)\n",
    "    confusion = metrics.confusion_matrix(test_answers, predictions)\n",
    "    probs = clf.predict_proba(test_args)\n",
    "    return (confusion[0, 0] + confusion[1, 1]) / np.sum(confusion), probs\n",
    "    \n",
    "def do_prediction_kfold(clf_orig, outer_train):\n",
    "    folds = 10\n",
    "    ret = 0\n",
    "    cur = np.zeros(folds)\n",
    "    for cur_fold in range(folds):\n",
    "        clf = base.clone(clf_orig)\n",
    "        train, train_args, train_answers, test, test_args, test_answers = split_sets_kfold(outer_train, folds, cur_fold)\n",
    "        cur[cur_fold], _ = do_prediction(clf, train_args, train_answers, test_args, test_answers)\n",
    "        ret = ret + cur[cur_fold]\n",
    "    return ret / folds, cur"
   ]
  },
  {
   "cell_type": "markdown",
   "metadata": {},
   "source": [
    "### Decision Tree"
   ]
  },
  {
   "cell_type": "code",
   "execution_count": 6,
   "metadata": {},
   "outputs": [
    {
     "data": {
      "image/png": "[encoded data removed]",
      "text/plain": [
       "<matplotlib.figure.Figure at 0x7f7f2d9f6358>"
      ]
     },
     "metadata": {},
     "output_type": "display_data"
    }
   ],
   "source": [
    "# Decision tree\n",
    "depths_count = 25\n",
    "correct_tree = np.zeros(depths_count)\n",
    "depths = np.arange(1, depths_count + 1)\n",
    "for i in range(depths_count):\n",
    "    correct_tree[i], _ = do_prediction_kfold(tree.DecisionTreeClassifier(max_depth = depths[i]), outer_train)\n",
    "best_depth = depths[np.argmax(correct_tree)]\n",
    "\n",
    "plt.plot(depths, correct_tree * 100, 'o')\n",
    "plt.xlabel('Tree depth')\n",
    "plt.ylabel('Correct (%)')\n",
    "plt.savefig('correct_tree.pdf')"
   ]
  },
  {
   "cell_type": "code",
   "execution_count": 7,
   "metadata": {},
   "outputs": [
    {
     "name": "stdout",
     "output_type": "stream",
     "text": [
      "1 0.646433384047 0.686192468619\n"
     ]
    }
   ],
   "source": [
    "clf_tree = tree.DecisionTreeClassifier(max_depth = best_depth)\n",
    "outer_correct, tree_probs = do_prediction(clf_tree, outer_train_args, outer_train_answers, outer_test_args, outer_test_answers)\n",
    "print (best_depth, correct_tree[best_depth], outer_correct)\n",
    "\n",
    "dot_data = tree.export_graphviz(clf_tree, out_file=None, feature_names=outer_train_args.columns)\n",
    "graph = graphviz.Source(dot_data)\n",
    "graph.render(\"tree\")\n",
    "\n",
    "_, tree_perf = do_prediction_kfold(tree.DecisionTreeClassifier(max_depth = best_depth), outer_train)"
   ]
  },
  {
   "cell_type": "markdown",
   "metadata": {},
   "source": [
    "### KNN"
   ]
  },
  {
   "cell_type": "code",
   "execution_count": 8,
   "metadata": {},
   "outputs": [
    {
     "data": {
      "image/png": "[encoded data removed]",
      "text/plain": [
       "<matplotlib.figure.Figure at 0x7f7ef5dd5080>"
      ]
     },
     "metadata": {},
     "output_type": "display_data"
    }
   ],
   "source": [
    "n_neighbors = 214\n",
    "neighbors_count = np.arange(1, n_neighbors + 1)\n",
    "correct_knn = np.zeros(n_neighbors)\n",
    "for i in range(n_neighbors):\n",
    "    correct_knn[i], _ = do_prediction_kfold(neighbors.KNeighborsClassifier(n_neighbors = neighbors_count[i]), outer_train)\n",
    "best_k = neighbors_count[np.argmax(correct_knn)]\n",
    "\n",
    "plt.plot(neighbors_count, correct_knn * 100, 'o')\n",
    "plt.xlabel('Number of neighbors')\n",
    "plt.ylabel('Correct (%)')\n",
    "plt.savefig('correct_knn.pdf')"
   ]
  },
  {
   "cell_type": "code",
   "execution_count": 9,
   "metadata": {},
   "outputs": [
    {
     "name": "stdout",
     "output_type": "stream",
     "text": [
      "88 0.635705281461 0.652719665272\n"
     ]
    }
   ],
   "source": [
    "clf_knn = neighbors.KNeighborsClassifier(n_neighbors = best_k)\n",
    "outer_correct, knn_probs = do_prediction(clf_knn, outer_train_args, outer_train_answers, outer_test_args, outer_test_answers)\n",
    "print (best_k, correct_knn[best_k], outer_correct)\n",
    "\n",
    "_, knn_perf = do_prediction_kfold(neighbors.KNeighborsClassifier(n_neighbors = best_k), outer_train)"
   ]
  },
  {
   "cell_type": "markdown",
   "metadata": {},
   "source": [
    "### ANN"
   ]
  },
  {
   "cell_type": "code",
   "execution_count": null,
   "metadata": {},
   "outputs": [],
   "source": [
    "n_units = np.arange(1, 100, 1, dtype=int)\n",
    "correct_ann = np.zeros(len(n_units))\n",
    "for i in range(len(correct_ann)):\n",
    "    correct_ann[i], _ = do_prediction_kfold(neural_network.MLPClassifier(hidden_layer_sizes = n_units[i], max_iter=1000), outer_train)\n",
    "best_i = np.argmax(correct_ann)\n",
    "\n",
    "plt.plot(n_units, correct_ann * 100, 'o')\n",
    "plt.xlabel('Number of units in hidden layer')\n",
    "plt.ylabel('Correct (%)')\n",
    "plt.savefig('correct_ann.pdf')"
   ]
  },
  {
   "cell_type": "code",
   "execution_count": null,
   "metadata": {},
   "outputs": [],
   "source": [
    "clf_ann = neural_network.MLPClassifier(hidden_layer_sizes = n_units[best_i], max_iter=1000)\n",
    "outer_correct, ann_probs = do_prediction(clf_ann, outer_train_args, outer_train_answers, outer_test_args, outer_test_answers)\n",
    "print (n_units[best_i], correct_ann[best_i], outer_correct)"
   ]
  },
  {
   "cell_type": "markdown",
   "metadata": {},
   "source": [
    "### t-test"
   ]
  },
  {
   "cell_type": "code",
   "execution_count": 17,
   "metadata": {},
   "outputs": [],
   "source": [
    "### Compare probabilities\n",
    "#prob_a = tree_probs[:, 1]\n",
    "#prob_b = knn_probs[:, 1]\n",
    "#tval, pval = stats.ttest_rel(prob_a, prob_b)\n",
    "#print (tval, pval)"
   ]
  },
  {
   "cell_type": "code",
   "execution_count": 18,
   "metadata": {},
   "outputs": [],
   "source": [
    "### Compare predictions\n",
    "#predict_a = np.where(prob_a >= 0.5, 1, 0)\n",
    "#predict_b = np.where(prob_b >= 0.5, 1, 0)\n",
    "#tval, pval = stats.ttest_rel(predict_a, predict_b)\n",
    "#print (tval, pval)"
   ]
  },
  {
   "cell_type": "code",
   "execution_count": 19,
   "metadata": {},
   "outputs": [
    {
     "name": "stdout",
     "output_type": "stream",
     "text": [
      "1.0814011924 0.307641825324\n"
     ]
    }
   ],
   "source": [
    "### Compare accuracies from 10-fold\n",
    "tval, pval = stats.ttest_rel(tree_perf, knn_perf)\n",
    "print (tval, pval)"
   ]
  },
  {
   "cell_type": "code",
   "execution_count": 13,
   "metadata": {},
   "outputs": [
    {
     "data": {
      "image/png": "[encoded data removed]",
      "text/plain": [
       "<matplotlib.figure.Figure at 0x7f7ef5a9d390>"
      ]
     },
     "metadata": {},
     "output_type": "display_data"
    }
   ],
   "source": [
    "a_win_win  = prob_a[outer_test_answers.as_matrix()]\n",
    "a_win_loss = prob_a[np.where(outer_test_answers.as_matrix(), False, True)]\n",
    "b_win_win  = prob_b[outer_test_answers.as_matrix()]\n",
    "b_win_loss = prob_b[np.where(outer_test_answers.as_matrix(), False, True)]\n",
    "plt.hist((a_win_win, a_win_loss), stacked=True, bins = 20, label=['Decision tree (actually won games)', 'Decision tree (actually not won games)'])\n",
    "plt.hist((b_win_win, b_win_loss), stacked=True, bins = 20, label=['KNN (actually won games)', 'KNN (actually not won games)'])\n",
    "plt.legend()\n",
    "plt.xlabel('Estimated probability of winning')\n",
    "plt.ylabel('Count')\n",
    "plt.savefig('class_compare.pdf')"
   ]
  },
  {
   "cell_type": "code",
   "execution_count": 16,
   "metadata": {},
   "outputs": [
    {
     "name": "stdout",
     "output_type": "stream",
     "text": [
      "z: 0.00838730710715\n",
      "theta_l: -0.0442483113345\n",
      "theta_u: 0.0610229255488\n"
     ]
    }
   ],
   "source": [
    "# Performance comparison\n",
    "# K=10, v=9\n",
    "v = 9\n",
    "alpha = 0.05\n",
    "zs = np.array(tree_perf) - np.array(knn_perf)\n",
    "z_bar = np.mean(zs)\n",
    "std_z_bar = np.std(zs)\n",
    "\n",
    "from scipy.stats import t\n",
    "\n",
    "theta_l = z_bar + std_z_bar * t.ppf(alpha/2, v)\n",
    "theta_u = z_bar + std_z_bar * t.ppf(1 - alpha/2, v)\n",
    "print(\"z: \" + str(z_bar))\n",
    "print(\"theta_l: \" + str(theta_l))\n",
    "print(\"theta_u: \" + str(theta_u))"
   ]
  },
  {
   "cell_type": "code",
   "execution_count": null,
   "metadata": {
    "collapsed": true
   },
   "outputs": [],
   "source": []
  }
 ],
 "metadata": {
  "kernelspec": {
   "display_name": "Python 3",
   "language": "python",
   "name": "python3"
  },
  "language_info": {
   "codemirror_mode": {
    "name": "ipython",
    "version": 3
   },
   "file_extension": ".py",
   "mimetype": "text/x-python",
   "name": "python",
   "nbconvert_exporter": "python",
   "pygments_lexer": "ipython3",
   "version": "3.6.3"
  }
 },
 "nbformat": 4,
 "nbformat_minor": 2
}
