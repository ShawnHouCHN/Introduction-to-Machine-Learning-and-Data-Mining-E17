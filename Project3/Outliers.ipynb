{
 "cells": [
  {
   "cell_type": "code",
   "execution_count": 1,
   "metadata": {
    "collapsed": true
   },
   "outputs": [],
   "source": [
    "from scipy import stats\n",
    "import numpy as np\n",
    "import matplotlib.pyplot as plt\n",
    "import pandas as pd\n",
    "from sklearn import neighbors\n",
    "from toolbox_02450 import gausKernelDensity"
   ]
  },
  {
   "cell_type": "code",
   "execution_count": 2,
   "metadata": {
    "collapsed": true
   },
   "outputs": [],
   "source": [
    "#data = np.loadtxt('dataset.csv', skiprows=1, delimiter=',')\n",
    "df = pd.read_csv('dataset.csv')\n",
    "df = (df - df.mean()) / df.std()\n",
    "data = df.as_matrix()"
   ]
  },
  {
   "cell_type": "code",
   "execution_count": 3,
   "metadata": {},
   "outputs": [
    {
     "name": "stdout",
     "output_type": "stream",
     "text": [
      "Optimal estimated width is: 0.4525252525252525\n"
     ]
    }
   ],
   "source": [
    "# Estimate the optimal kernel density width, by leave-one-out cross-validation\n",
    "widths = np.linspace(0.2, 0.7, 100)\n",
    "logP = np.zeros(np.size(widths))\n",
    "for i,w in enumerate(widths):\n",
    "    f, log_f = gausKernelDensity(data, w)\n",
    "    logP[i] = log_f.sum()\n",
    "val = logP.max()\n",
    "ind = logP.argmax()\n",
    "\n",
    "width=widths[ind]\n",
    "print('Optimal estimated width is: {0}'.format(width))"
   ]
  },
  {
   "cell_type": "code",
   "execution_count": 4,
   "metadata": {},
   "outputs": [
    {
     "data": {
      "text/plain": [
       "[<matplotlib.lines.Line2D at 0x7ff6d8c44cc0>]"
      ]
     },
     "execution_count": 4,
     "metadata": {},
     "output_type": "execute_result"
    },
    {
     "data": {
      "image/png": "[encoded data removed]",
      "text/plain": [
       "<matplotlib.figure.Figure at 0x7ff6d8c57940>"
      ]
     },
     "metadata": {},
     "output_type": "display_data"
    }
   ],
   "source": [
    "plt.plot(widths, logP)"
   ]
  },
  {
   "cell_type": "code",
   "execution_count": 5,
   "metadata": {},
   "outputs": [
    {
     "name": "stdout",
     "output_type": "stream",
     "text": [
      "Lowest density: [  2.28740126e-105] for data object: 67\n",
      "Highest density: [  1.23356606e-21] for data object: 37\n"
     ]
    }
   ],
   "source": [
    "# Estimate density for each observation not including the observation\n",
    "# itself in the density estimate\n",
    "density, log_density = gausKernelDensity(data, width)\n",
    "\n",
    "# Sort the densities\n",
    "i = (density.argsort(axis=0)).ravel()\n",
    "density = density[i]\n",
    "\n",
    "# Display the index of the lowest density data object\n",
    "print('Lowest density: {0} for data object: {1}'.format(density[0],i[0]))\n",
    "print('Highest density: {0} for data object: {1}'.format(density[-1],i[-1]))"
   ]
  },
  {
   "cell_type": "code",
   "execution_count": null,
   "metadata": {
    "collapsed": true
   },
   "outputs": [],
   "source": [
    "print (density, i)"
   ]
  },
  {
   "cell_type": "code",
   "execution_count": null,
   "metadata": {},
   "outputs": [
    {
     "name": "stdout",
     "output_type": "stream",
     "text": [
      "0.0695302293156 0.282180341106\n",
      "67 738\n",
      "0.466714871636 1.18600313709\n",
      "67 1114\n"
     ]
    }
   ],
   "source": [
    "K = 5\n",
    "knn = neighbors.NearestNeighbors(n_neighbors = K)\n",
    "knn.fit(df)\n",
    "dist, ind = knn.kneighbors()\n",
    "density = 1 / (np.sum(dist, axis=1) / K)\n",
    "ard = density / (np.sum(density[ind], axis=1) / K)\n",
    "print (np.min(density), np.max(density))\n",
    "print (np.argmin(density), np.argmax(density))\n",
    "print (np.min(ard), np.max(ard))\n",
    "print (np.argmin(ard), np.argmax(ard))"
   ]
  },
  {
   "cell_type": "code",
   "execution_count": null,
   "metadata": {
    "scrolled": true
   },
   "outputs": [
    {
     "name": "stdout",
     "output_type": "stream",
     "text": [
      "0 1.0\n",
      "1 1.0\n",
      "2 1.0\n",
      "3 1.0\n",
      "4 1.0\n",
      "5 1.0\n",
      "6 1.0\n"
     ]
    }
   ],
   "source": [
    "Ks = np.zeros(len(df))\n",
    "maxK = 10\n",
    "for i in range(len(df)):\n",
    "    knn = neighbors.NearestNeighbors()\n",
    "    knn.fit(df.drop(i))\n",
    "    densities = np.zeros(len(df))\n",
    "    for K in range(1, maxK + 1):        \n",
    "        dist, ind = knn.kneighbors(n_neighbors = K)\n",
    "        density = 1 / (np.sum(dist, axis=1) / K)\n",
    "        densities[K] = np.sum(density)\n",
    "#        print ('   ', i, K, densities[K])\n",
    "    Ks[i] = np.argmax(densities)\n",
    "    print (i, Ks[i])"
   ]
  },
  {
   "cell_type": "code",
   "execution_count": null,
   "metadata": {
    "collapsed": true
   },
   "outputs": [],
   "source": []
  }
 ],
 "metadata": {
  "kernelspec": {
   "display_name": "Python 3",
   "language": "python",
   "name": "python3"
  },
  "language_info": {
   "codemirror_mode": {
    "name": "ipython",
    "version": 3
   },
   "file_extension": ".py",
   "mimetype": "text/x-python",
   "name": "python",
   "nbconvert_exporter": "python",
   "pygments_lexer": "ipython3",
   "version": "3.6.3"
  }
 },
 "nbformat": 4,
 "nbformat_minor": 2
}
